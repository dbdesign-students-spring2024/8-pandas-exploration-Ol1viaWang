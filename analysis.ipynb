{
 "cells": [
  {
   "cell_type": "markdown",
   "metadata": {},
   "source": [
    "# pandas exploration\n",
    "In this assignment you will select a data set and do some munging and analysis of it using `pandas`, Jupyter Notebooks, and associated Python-centric data science tools."
   ]
  },
  {
   "cell_type": "markdown",
   "metadata": {},
   "source": [
    "## Set up environment"
   ]
  },
  {
   "cell_type": "markdown",
   "metadata": {},
   "source": [
    "The following lines ensure that `numpy` and `pandas` are installed in the notebook environment.  Depending on your system, this may not be necessary and may be removed."
   ]
  },
  {
   "cell_type": "code",
   "execution_count": 1,
   "metadata": {},
   "outputs": [
    {
     "name": "stdout",
     "output_type": "stream",
     "text": [
      "Requirement already satisfied: numpy in ./anaconda3/lib/python3.10/site-packages (1.23.5)\n",
      "Requirement already satisfied: pandas in ./anaconda3/lib/python3.10/site-packages (1.5.3)\n",
      "Requirement already satisfied: python-dateutil>=2.8.1 in ./anaconda3/lib/python3.10/site-packages (from pandas) (2.8.2)\n",
      "Requirement already satisfied: pytz>=2020.1 in ./anaconda3/lib/python3.10/site-packages (from pandas) (2022.7)\n",
      "Requirement already satisfied: numpy>=1.21.0 in ./anaconda3/lib/python3.10/site-packages (from pandas) (1.23.5)\n",
      "Requirement already satisfied: six>=1.5 in ./anaconda3/lib/python3.10/site-packages (from python-dateutil>=2.8.1->pandas) (1.16.0)\n"
     ]
    }
   ],
   "source": [
    "!pip install numpy\n",
    "!pip install pandas"
   ]
  },
  {
   "cell_type": "markdown",
   "metadata": {},
   "source": [
    "Import the core data science libraries:"
   ]
  },
  {
   "cell_type": "code",
   "execution_count": 2,
   "metadata": {},
   "outputs": [],
   "source": [
    "%matplotlib inline\n",
    "import matplotlib.pyplot as plt\n",
    "import numpy as np\n",
    "import pandas as pd"
   ]
  },
  {
   "cell_type": "markdown",
   "metadata": {},
   "source": [
    "## Import the raw data\n",
    "In this section, you will import the raw data into a `pandas` DataFrame."
   ]
  },
  {
   "cell_type": "code",
   "execution_count": 3,
   "metadata": {},
   "outputs": [],
   "source": [
    "df = pd.read_csv('/Users/leyiwang/Desktop/8-pandas-exploration-Ol1viaWang/data/field_for_first_major.csv')"
   ]
  },
  {
   "cell_type": "markdown",
   "metadata": {},
   "source": [
    "## Data inspection\n",
    "In this section, you will show enough of your data for a viewer to get a general sense of how the data is structured and any unique features of it.  Complete each of the indicated tasks in a Code cell, making sure to include a Markdown cell above each Code cell that explains what is being shown by the code.  \n",
    "- Show 5 rows, selected at random, from the data set.\n",
    "- Show each of the column names and their data types.\n",
    "- Show any unique features of your chosen data set.\n",
    "\n",
    "Feel free to add as many additional cells as you need to help explain the raw data."
   ]
  },
  {
   "cell_type": "code",
   "execution_count": 4,
   "metadata": {
    "scrolled": true
   },
   "outputs": [
    {
     "data": {
      "text/html": [
       "<div>\n",
       "<style scoped>\n",
       "    .dataframe tbody tr th:only-of-type {\n",
       "        vertical-align: middle;\n",
       "    }\n",
       "\n",
       "    .dataframe tbody tr th {\n",
       "        vertical-align: top;\n",
       "    }\n",
       "\n",
       "    .dataframe thead th {\n",
       "        text-align: right;\n",
       "    }\n",
       "</style>\n",
       "<table border=\"1\" class=\"dataframe\">\n",
       "  <thead>\n",
       "    <tr style=\"text-align: right;\">\n",
       "      <th></th>\n",
       "      <th>Label (Grouping)</th>\n",
       "      <th>New York County, New York!!Total!!Estimate</th>\n",
       "      <th>New York County, New York!!Percent!!Estimate</th>\n",
       "      <th>New York County, New York!!Male!!Estimate</th>\n",
       "      <th>New York County, New York!!Percent Male!!Estimate</th>\n",
       "      <th>New York County, New York!!Female!!Estimate</th>\n",
       "      <th>New York County, New York!!Percent Female!!Estimate</th>\n",
       "    </tr>\n",
       "  </thead>\n",
       "  <tbody>\n",
       "    <tr>\n",
       "      <th>20</th>\n",
       "      <td>Science and Engineering</td>\n",
       "      <td>50,886</td>\n",
       "      <td>33.6%</td>\n",
       "      <td>28,684</td>\n",
       "      <td>42.4%</td>\n",
       "      <td>22,202</td>\n",
       "      <td>26.5%</td>\n",
       "    </tr>\n",
       "    <tr>\n",
       "      <th>5</th>\n",
       "      <td>Arts, Humanities and Others</td>\n",
       "      <td>278,501</td>\n",
       "      <td>35.3%</td>\n",
       "      <td>117,189</td>\n",
       "      <td>30.9%</td>\n",
       "      <td>161,312</td>\n",
       "      <td>39.3%</td>\n",
       "    </tr>\n",
       "    <tr>\n",
       "      <th>7</th>\n",
       "      <td>25 to 39 years</td>\n",
       "      <td>349,241</td>\n",
       "      <td>(X)</td>\n",
       "      <td>167,729</td>\n",
       "      <td>(X)</td>\n",
       "      <td>181,512</td>\n",
       "      <td>(X)</td>\n",
       "    </tr>\n",
       "    <tr>\n",
       "      <th>8</th>\n",
       "      <td>Science and Engineering</td>\n",
       "      <td>151,909</td>\n",
       "      <td>43.5%</td>\n",
       "      <td>85,083</td>\n",
       "      <td>50.7%</td>\n",
       "      <td>66,826</td>\n",
       "      <td>36.8%</td>\n",
       "    </tr>\n",
       "    <tr>\n",
       "      <th>14</th>\n",
       "      <td>Science and Engineering</td>\n",
       "      <td>99,449</td>\n",
       "      <td>34.4%</td>\n",
       "      <td>54,042</td>\n",
       "      <td>37.6%</td>\n",
       "      <td>45,407</td>\n",
       "      <td>31.3%</td>\n",
       "    </tr>\n",
       "  </tbody>\n",
       "</table>\n",
       "</div>"
      ],
      "text/plain": [
       "                       Label (Grouping)  \\\n",
       "20              Science and Engineering   \n",
       "5           Arts, Humanities and Others   \n",
       "7                        25 to 39 years   \n",
       "8               Science and Engineering   \n",
       "14              Science and Engineering   \n",
       "\n",
       "   New York County, New York!!Total!!Estimate  \\\n",
       "20                                     50,886   \n",
       "5                                     278,501   \n",
       "7                                     349,241   \n",
       "8                                     151,909   \n",
       "14                                     99,449   \n",
       "\n",
       "   New York County, New York!!Percent!!Estimate  \\\n",
       "20                                        33.6%   \n",
       "5                                         35.3%   \n",
       "7                                           (X)   \n",
       "8                                         43.5%   \n",
       "14                                        34.4%   \n",
       "\n",
       "   New York County, New York!!Male!!Estimate  \\\n",
       "20                                    28,684   \n",
       "5                                    117,189   \n",
       "7                                    167,729   \n",
       "8                                     85,083   \n",
       "14                                    54,042   \n",
       "\n",
       "   New York County, New York!!Percent Male!!Estimate  \\\n",
       "20                                             42.4%   \n",
       "5                                              30.9%   \n",
       "7                                                (X)   \n",
       "8                                              50.7%   \n",
       "14                                             37.6%   \n",
       "\n",
       "   New York County, New York!!Female!!Estimate  \\\n",
       "20                                      22,202   \n",
       "5                                      161,312   \n",
       "7                                      181,512   \n",
       "8                                       66,826   \n",
       "14                                      45,407   \n",
       "\n",
       "   New York County, New York!!Percent Female!!Estimate  \n",
       "20                                              26.5%   \n",
       "5                                               39.3%   \n",
       "7                                                 (X)   \n",
       "8                                               36.8%   \n",
       "14                                              31.3%   "
      ]
     },
     "execution_count": 4,
     "metadata": {},
     "output_type": "execute_result"
    }
   ],
   "source": [
    "df.sample(n=5)"
   ]
  },
  {
   "cell_type": "markdown",
   "metadata": {},
   "source": [
    "Observing these 5 random rows of the original data, we can tell that there are some missing values. Placeholders such as '(X)' are used. Besides, many of the field names include special characters like '!!', which is not easy to read and analyze."
   ]
  },
  {
   "cell_type": "code",
   "execution_count": 5,
   "metadata": {},
   "outputs": [
    {
     "data": {
      "text/plain": [
       "Label (Grouping)                                       object\n",
       "New York County, New York!!Total!!Estimate             object\n",
       "New York County, New York!!Percent!!Estimate           object\n",
       "New York County, New York!!Male!!Estimate              object\n",
       "New York County, New York!!Percent Male!!Estimate      object\n",
       "New York County, New York!!Female!!Estimate            object\n",
       "New York County, New York!!Percent Female!!Estimate    object\n",
       "dtype: object"
      ]
     },
     "execution_count": 5,
     "metadata": {},
     "output_type": "execute_result"
    }
   ],
   "source": [
    "df.dtypes"
   ]
  },
  {
   "cell_type": "markdown",
   "metadata": {},
   "source": [
    "There are 7 columns in total and each column is of the data type 'object'. It indicates that each column has text data. Even columns that actually contain numerical data (like 'New York County, New York!!Total!!Estimate') are actually stored as strings. Columns that should be numeric have non-numeric characters such as commas and percentages, causing pandas to interpret them as text."
   ]
  },
  {
   "cell_type": "code",
   "execution_count": 6,
   "metadata": {},
   "outputs": [
    {
     "data": {
      "text/plain": [
       "2"
      ]
     },
     "execution_count": 6,
     "metadata": {},
     "output_type": "execute_result"
    }
   ],
   "source": [
    "# check the number of dimensions of data\n",
    "df.ndim"
   ]
  },
  {
   "cell_type": "markdown",
   "metadata": {},
   "source": [
    "The original data is a 2-dimensional DataFrame."
   ]
  },
  {
   "cell_type": "code",
   "execution_count": 7,
   "metadata": {},
   "outputs": [
    {
     "data": {
      "text/plain": [
       "(25, 7)"
      ]
     },
     "execution_count": 7,
     "metadata": {},
     "output_type": "execute_result"
    }
   ],
   "source": [
    "# check the shape of data\n",
    "df.shape"
   ]
  },
  {
   "cell_type": "markdown",
   "metadata": {},
   "source": [
    "The original data has 25 rows and 7 columns."
   ]
  },
  {
   "cell_type": "markdown",
   "metadata": {},
   "source": [
    "## Data munging\n",
    "Place your **data munging** code and documentation within this section.  \n",
    "- Keep each of your Code cells short and focused on a single task.  \n",
    "- Include a Markdown cell above each code cell that describes what task the code within the code cell is performing.\n",
    "- Make as many code cells as you need to complete the munging - a few have been created for you to start with.\n",
    "- Display 5 sample rows of the modified data after each transformation so a viewer can see how the data has changed.\n",
    "\n",
    "**Note**: If you believe that your data set does not require any munging, please explain in detail.  Create Markdown cells that explain your thinking and create Code cells that show any specific structures of the data you refer to in your explanation."
   ]
  },
  {
   "cell_type": "markdown",
   "metadata": {},
   "source": [
    "**Renaming Columns**"
   ]
  },
  {
   "cell_type": "code",
   "execution_count": 8,
   "metadata": {},
   "outputs": [],
   "source": [
    "# rename each column to make it easy to read, replacing '!' with '_'\n",
    "new_names = {\n",
    "    'Label (Grouping)': 'Label',\n",
    "    'New York County, New York!!Total!!Estimate': 'Total_Estimate',\n",
    "    'New York County, New York!!Percent!!Estimate': 'Total_Percent',\n",
    "    'New York County, New York!!Male!!Estimate': 'Male_Estimate',\n",
    "    'New York County, New York!!Percent Male!!Estimate': 'Male_Percent',\n",
    "    'New York County, New York!!Female!!Estimate': 'Female_Estimate',\n",
    "    'New York County, New York!!Percent Female!!Estimate': 'Female_Percent'\n",
    "}\n",
    "df.rename(columns=new_names, inplace=True)"
   ]
  },
  {
   "cell_type": "markdown",
   "metadata": {},
   "source": [
    "As I mentioned above, the original field names are complex and hard to read. Therefore, I decided to rename them to make each column easy to read and understand through either leaving with the most essential part or replacing '!' with '_'."
   ]
  },
  {
   "cell_type": "markdown",
   "metadata": {},
   "source": [
    "**Deleting Unnecessary Rows**"
   ]
  },
  {
   "cell_type": "code",
   "execution_count": 9,
   "metadata": {},
   "outputs": [],
   "source": [
    "# remove 'DETAILED AGE' row\n",
    "df = df[~df['Label'].str.contains('DETAILED AGE')]"
   ]
  },
  {
   "cell_type": "markdown",
   "metadata": {},
   "source": [
    "I chose to remove 'DETAILED AGE' row because this row is unnecessary and does not contain any useful information. It merely indicates that the dataset includes specific age group data in addition to overall demographic information."
   ]
  },
  {
   "cell_type": "markdown",
   "metadata": {},
   "source": [
    "**Dealing with Placeholders**"
   ]
  },
  {
   "cell_type": "code",
   "execution_count": 10,
   "metadata": {},
   "outputs": [],
   "source": [
    "# replace '(X)' with '100%'\n",
    "for col in ['Total_Percent', 'Male_Percent', 'Female_Percent']:\n",
    "    df[col] = df[col].astype(str).replace({'(X)': '100%'})"
   ]
  },
  {
   "cell_type": "markdown",
   "metadata": {},
   "source": [
    "Before dealing with the percentage columns, I replaced '(X)' with '100%' as it represents the whole population of that age group."
   ]
  },
  {
   "cell_type": "markdown",
   "metadata": {},
   "source": [
    "**Changing Column Types**"
   ]
  },
  {
   "cell_type": "code",
   "execution_count": 11,
   "metadata": {},
   "outputs": [],
   "source": [
    "# convert percentage columns to floats, removing the percentage sign\n",
    "for col in ['Total_Percent', 'Male_Percent', 'Female_Percent']:\n",
    "    df[col] = df[col].str.replace('%', '')\n",
    "    df[col] = df[col].astype(float)\n",
    "    df[col] = df[col]"
   ]
  },
  {
   "cell_type": "markdown",
   "metadata": {},
   "source": [
    "Currently, the data types of percentage columns are text. To better analyze the data, I converted those columns to floats. "
   ]
  },
  {
   "cell_type": "code",
   "execution_count": 12,
   "metadata": {},
   "outputs": [],
   "source": [
    "# convert estimate columns to int, removing all commas\n",
    "for col in ['Total_Estimate', 'Male_Estimate', 'Female_Estimate']:\n",
    "    df[col] = df[col].astype(str).str.replace(',', '').astype(float)\n",
    "    df[col] = df[col].astype(int)"
   ]
  },
  {
   "cell_type": "markdown",
   "metadata": {},
   "source": [
    "Currently, the data types of estimate columns are text. To better analyze the data, I converted those columns to numeric."
   ]
  },
  {
   "cell_type": "markdown",
   "metadata": {},
   "source": [
    "**Displaying Cleaned Data**"
   ]
  },
  {
   "cell_type": "code",
   "execution_count": 18,
   "metadata": {},
   "outputs": [
    {
     "data": {
      "text/html": [
       "<div>\n",
       "<style scoped>\n",
       "    .dataframe tbody tr th:only-of-type {\n",
       "        vertical-align: middle;\n",
       "    }\n",
       "\n",
       "    .dataframe tbody tr th {\n",
       "        vertical-align: top;\n",
       "    }\n",
       "\n",
       "    .dataframe thead th {\n",
       "        text-align: right;\n",
       "    }\n",
       "</style>\n",
       "<table border=\"1\" class=\"dataframe\">\n",
       "  <thead>\n",
       "    <tr style=\"text-align: right;\">\n",
       "      <th></th>\n",
       "      <th>Label</th>\n",
       "      <th>Total_Estimate</th>\n",
       "      <th>Total_Percent</th>\n",
       "      <th>Male_Estimate</th>\n",
       "      <th>Male_Percent</th>\n",
       "      <th>Female_Estimate</th>\n",
       "      <th>Female_Percent</th>\n",
       "    </tr>\n",
       "  </thead>\n",
       "  <tbody>\n",
       "    <tr>\n",
       "      <th>8</th>\n",
       "      <td>Science and Engineering</td>\n",
       "      <td>151909</td>\n",
       "      <td>43.5</td>\n",
       "      <td>85083</td>\n",
       "      <td>50.7</td>\n",
       "      <td>66826</td>\n",
       "      <td>36.8</td>\n",
       "    </tr>\n",
       "    <tr>\n",
       "      <th>17</th>\n",
       "      <td>Education</td>\n",
       "      <td>10604</td>\n",
       "      <td>3.7</td>\n",
       "      <td>3391</td>\n",
       "      <td>2.4</td>\n",
       "      <td>7213</td>\n",
       "      <td>5.0</td>\n",
       "    </tr>\n",
       "    <tr>\n",
       "      <th>13</th>\n",
       "      <td>40 to 64 years</td>\n",
       "      <td>288866</td>\n",
       "      <td>100.0</td>\n",
       "      <td>143821</td>\n",
       "      <td>100.0</td>\n",
       "      <td>145045</td>\n",
       "      <td>100.0</td>\n",
       "    </tr>\n",
       "    <tr>\n",
       "      <th>3</th>\n",
       "      <td>Business</td>\n",
       "      <td>144503</td>\n",
       "      <td>18.3</td>\n",
       "      <td>76200</td>\n",
       "      <td>20.1</td>\n",
       "      <td>68303</td>\n",
       "      <td>16.7</td>\n",
       "    </tr>\n",
       "    <tr>\n",
       "      <th>15</th>\n",
       "      <td>Science and Engineering Related Fi...</td>\n",
       "      <td>12011</td>\n",
       "      <td>4.2</td>\n",
       "      <td>5399</td>\n",
       "      <td>3.8</td>\n",
       "      <td>6612</td>\n",
       "      <td>4.6</td>\n",
       "    </tr>\n",
       "  </tbody>\n",
       "</table>\n",
       "</div>"
      ],
      "text/plain": [
       "                                                Label  Total_Estimate  \\\n",
       "8                             Science and Engineering          151909   \n",
       "17                                          Education           10604   \n",
       "13                                     40 to 64 years          288866   \n",
       "3                                            Business          144503   \n",
       "15              Science and Engineering Related Fi...           12011   \n",
       "\n",
       "    Total_Percent  Male_Estimate  Male_Percent  Female_Estimate  \\\n",
       "8            43.5          85083          50.7            66826   \n",
       "17            3.7           3391           2.4             7213   \n",
       "13          100.0         143821         100.0           145045   \n",
       "3            18.3          76200          20.1            68303   \n",
       "15            4.2           5399           3.8             6612   \n",
       "\n",
       "    Female_Percent  \n",
       "8             36.8  \n",
       "17             5.0  \n",
       "13           100.0  \n",
       "3             16.7  \n",
       "15             4.6  "
      ]
     },
     "execution_count": 18,
     "metadata": {},
     "output_type": "execute_result"
    }
   ],
   "source": [
    "# display 5 sample rows of the modified data\n",
    "df.sample(n=5)"
   ]
  },
  {
   "cell_type": "markdown",
   "metadata": {},
   "source": [
    "## Data analysis\n",
    "Place your **data analysis** code and documentation within this section.\n",
    "- Perform at least 5 different statistical or other analyses of different aspects of the data.\n",
    "    - Your analyses must be specific and relevant to your chosen data set and show interesting aspects of it.\n",
    "    - Include at least one analysis that includes grouping rows by a shared attribute and performing some kind of statistical analysis on each group.\n",
    "    - Sort the data in at least 1 of your analyses, but sort on its own does not constitute an analysis on its own.\n",
    "- Keep each of your Code cells short and focused on a single task.\n",
    "- Include a Markdown cell above each Code cell that describes what task the code within the Code cell is performing.\n",
    "- Make as many code cells as you need to complete the analysis - a few have been created for you to start with."
   ]
  },
  {
   "cell_type": "markdown",
   "metadata": {},
   "source": [
    "**Overall Aggregate Data**"
   ]
  },
  {
   "cell_type": "code",
   "execution_count": 34,
   "metadata": {},
   "outputs": [
    {
     "name": "stdout",
     "output_type": "stream",
     "text": [
      "                                        Label  Total_Estimate\n",
      "1                     Science and Engineering          302244\n",
      "5                 Arts, Humanities and Others          278501\n",
      "3                                    Business          144503\n",
      "2      Science and Engineering Related Fields           34499\n",
      "4                                   Education           29702\n"
     ]
    }
   ],
   "source": [
    "# extract aggregate data\n",
    "aggregate_data = df.iloc[1:6]\n",
    "\n",
    "# sort the aggregate data by 'Total_Estimate' to see the largest population groups\n",
    "sorted_aggregate = aggregate_data.sort_values(by='Total_Estimate', ascending=False)\n",
    "print(sorted_aggregate[['Label', 'Total_Estimate']])"
   ]
  },
  {
   "cell_type": "markdown",
   "metadata": {},
   "source": [
    "Firstly, I selected rows 1 through 5, which captures the total population data. Then I sorted the aggregate data by 'Total_Estimate' column in descending order. It helps me to identify the most popular major chosen by people with a Bachelor's degree or higher. Based on the sorted result, it seems that 'Science and Engineering' is the most populous field, followed by 'Arts, Humanities and Others', 'Business', 'Science and Engineering Related Fields', and finally 'Education'. "
   ]
  },
  {
   "cell_type": "markdown",
   "metadata": {},
   "source": [
    "**Detailed Age Group Data**"
   ]
  },
  {
   "cell_type": "code",
   "execution_count": 35,
   "metadata": {},
   "outputs": [
    {
     "name": "stdout",
     "output_type": "stream",
     "text": [
      "                                                Label  Total_Percent\n",
      "8                             Science and Engineering           43.5\n",
      "12                        Arts, Humanities and Others           28.4\n",
      "10                                           Business           21.7\n",
      "9               Science and Engineering Related Fi...            4.2\n",
      "11                                          Education            2.1\n"
     ]
    }
   ],
   "source": [
    "# extract the rows for age group 25 to 39 years\n",
    "age_25_39 = df.iloc[7:12]\n",
    "\n",
    "# sort the detailed age group data by 'Total_Percent'\n",
    "sorted_age_25_39 = age_25_39.sort_values(by='Total_Percent', ascending=False)\n",
    "print(sorted_age_25_39[['Label', 'Total_Percent']])"
   ]
  },
  {
   "cell_type": "markdown",
   "metadata": {},
   "source": [
    "Here, the focus is on the age group of 25 to 39 years. Similar to the code above, I firstly selected rows 7 through 11. Then I sorted the detailed age group data by 'Total_Percent' column in descending order so that the field with the highest percentage comes first. The field of 'Science and Engineering' is the most represented among the 25 to 39 age group, with a total percentage of 43.5%. "
   ]
  },
  {
   "cell_type": "code",
   "execution_count": 36,
   "metadata": {},
   "outputs": [
    {
     "name": "stdout",
     "output_type": "stream",
     "text": [
      "                                                Label  Total_Percent\n",
      "18                        Arts, Humanities and Others           38.3\n",
      "14                            Science and Engineering           34.4\n",
      "16                                           Business           19.5\n",
      "15              Science and Engineering Related Fi...            4.2\n",
      "17                                          Education            3.7\n"
     ]
    }
   ],
   "source": [
    "# extract the rows for age group 40 to 64 years\n",
    "age_40_64 = df.iloc[13:18]\n",
    "\n",
    "# sort the detailed age group data by 'Total_Percent'\n",
    "sorted_age_40_64 = age_40_64.sort_values(by='Total_Percent', ascending=False)\n",
    "print(sorted_age_40_64[['Label', 'Total_Percent']])"
   ]
  },
  {
   "cell_type": "markdown",
   "metadata": {},
   "source": [
    "Here, the focus is on the age group of 40 to 64 years. Similar to the code above, I firstly selected rows 13 through 17. Then I sorted the detailed age group data by 'Total_Percent' column in descending order so that the field with the highest percentage comes first. Different from the age group of 25 to 39 years, the field of 'Arts, Humanities and Others' is the most represented among the 40 to 64 age group, with a total percentage of 38.3%. "
   ]
  },
  {
   "cell_type": "code",
   "execution_count": 37,
   "metadata": {},
   "outputs": [
    {
     "name": "stdout",
     "output_type": "stream",
     "text": [
      "                                                Label  Total_Percent\n",
      "24                        Arts, Humanities and Others           45.4\n",
      "20                            Science and Engineering           33.6\n",
      "22                                           Business            8.2\n",
      "23                                          Education            7.7\n",
      "21              Science and Engineering Related Fi...            5.1\n"
     ]
    }
   ],
   "source": [
    "# extract the rows for age group 65 years and over\n",
    "age_65_over = df.iloc[19:24]\n",
    "\n",
    "# sort the detailed age group data by 'Total_Percent'\n",
    "sorted_age_65_over = age_65_over.sort_values(by='Total_Percent', ascending=False)\n",
    "print(sorted_age_65_over[['Label', 'Total_Percent']])"
   ]
  },
  {
   "cell_type": "markdown",
   "metadata": {},
   "source": [
    "Here, the focus is on the age group of 65 years and over. Similar to the code above, I firstly selected rows 19 through 23. Then I sorted the detailed age group data by 'Total_Percent' column in descending order so that the field with the highest percentage comes first. Similar to the results from the age group of 40 to 64 years, the field of 'Arts, Humanities and Others' is the most represented among the 65 years and over age group, with a total percentage of 45.4%. "
   ]
  },
  {
   "cell_type": "markdown",
   "metadata": {},
   "source": [
    "**Gender Comparisons**"
   ]
  },
  {
   "cell_type": "code",
   "execution_count": 38,
   "metadata": {},
   "outputs": [
    {
     "name": "stdout",
     "output_type": "stream",
     "text": [
      "                                        Label  Male_Percent\n",
      "1                     Science and Engineering          44.2\n",
      "5                 Arts, Humanities and Others          30.9\n",
      "3                                    Business          20.1\n",
      "2      Science and Engineering Related Fields           2.9\n",
      "4                                   Education           1.8\n"
     ]
    }
   ],
   "source": [
    "# extract aggregate data\n",
    "aggregate_data = df.iloc[1:6]\n",
    "\n",
    "# sort the male aggregate data by 'Male_Percent'\n",
    "sorted_male_aggregate = aggregate_data.sort_values(by='Male_Percent', ascending=False)\n",
    "print(sorted_male_aggregate[['Label', 'Male_Percent']])"
   ]
  },
  {
   "cell_type": "markdown",
   "metadata": {},
   "source": [
    "Here, I focused on the aggregate data to analyze the distribution of males across different fields. We can tell that the 'Science and Engineering' field has the highest percentage of males at 44.2%, significantly surpassing other majors. Conversely, the 'Education' field has the smallest percentage of males, registering at a mere 1.8%."
   ]
  },
  {
   "cell_type": "code",
   "execution_count": 39,
   "metadata": {},
   "outputs": [
    {
     "name": "stdout",
     "output_type": "stream",
     "text": [
      "                                        Label  Female_Percent\n",
      "5                 Arts, Humanities and Others            39.3\n",
      "1                     Science and Engineering            32.8\n",
      "3                                    Business            16.7\n",
      "2      Science and Engineering Related Fields             5.7\n",
      "4                                   Education             5.6\n"
     ]
    }
   ],
   "source": [
    "# extract aggregate data\n",
    "aggregate_data = df.iloc[1:6]\n",
    "\n",
    "# sort the female aggregate data by 'Female_Percent'\n",
    "sorted_female_aggregate = aggregate_data.sort_values(by='Female_Percent', ascending=False)\n",
    "print(sorted_female_aggregate[['Label', 'Female_Percent']])"
   ]
  },
  {
   "cell_type": "markdown",
   "metadata": {},
   "source": [
    "Here, I focused on the aggregate data to analyze the distribution of females across different fields. We can tell that the 'Arts, Humanities and Others' field has the highest percentage of females at 39.3%. The 'Education' field emerges as the least preferred for females as well, with only 5.6% representation. Similar to the findings among males, 'Education' ranks as the least favored field for declaring a first major. The main difference between female and male preferences lies in the most popular fields chosen."
   ]
  },
  {
   "cell_type": "code",
   "execution_count": 99,
   "metadata": {},
   "outputs": [
    {
     "name": "stdout",
     "output_type": "stream",
     "text": [
      "           Age Group  Total_Estimate  Male_Estimate  Female_Estimate\n",
      "0     25 to 39 years          349241         167729           181512\n",
      "1     40 to 64 years          288866         143821           145045\n",
      "2  65 years and over          151342          67689            83653\n"
     ]
    }
   ],
   "source": [
    "# locate rows that contain pre-calculated sums for each age group\n",
    "sum_25_39 = df.iloc[6]\n",
    "sum_40_64 = df.iloc[12]\n",
    "sum_65_over = df.iloc[18]\n",
    "\n",
    "# create a DataFrame\n",
    "age_group_data = pd.DataFrame({\n",
    "    'Age Group': ['25 to 39 years', '40 to 64 years', '65 years and over'],\n",
    "    'Total_Estimate': [sum_25_39['Total_Estimate'], sum_40_64['Total_Estimate'], sum_65_over['Total_Estimate']],\n",
    "    'Male_Estimate': [sum_25_39['Male_Estimate'], sum_40_64['Male_Estimate'], sum_65_over['Male_Estimate']],\n",
    "    'Female_Estimate': [sum_25_39['Female_Estimate'], sum_40_64['Female_Estimate'], sum_65_over['Female_Estimate']]\n",
    "})\n",
    "\n",
    "print(age_group_trend)"
   ]
  },
  {
   "cell_type": "markdown",
   "metadata": {},
   "source": [
    "Firstly, I extracted the pre-calculated total population estimates, as well as the male and female estimates for three age groups respectively: '25 to 39 years', '40 to 64 years', and '65 years and over'. Then I created a DataFrame to compare the population sizes of 25 years and over with a Bachelor's degree or higher across different age groups. The results reveal a descending trend in population size of 25 years and over with a Bachelor's degree or higher as age increases. The total estimate population of the age group of 25 to 39 years is more than 2 times of the total estimate population of the age group of 65 years and over. This trend might reflect that people are valuing education more recently. "
   ]
  },
  {
   "cell_type": "code",
   "execution_count": 58,
   "metadata": {},
   "outputs": [
    {
     "name": "stdout",
     "output_type": "stream",
     "text": [
      "           Age Group  Female_Proportion\n",
      "2  65 years and over           0.552741\n",
      "0     25 to 39 years           0.519733\n",
      "1     40 to 64 years           0.502119\n"
     ]
    }
   ],
   "source": [
    "# calculate female proportion\n",
    "age_group_data['Female_Proportion'] = age_group_data['Female_Estimate'] / age_group_data['Total_Estimate']\n",
    "\n",
    "sorted_by_female = age_group_data.sort_values(by='Female_Proportion', ascending=False)\n",
    "print(sorted_by_female[['Age Group', 'Female_Proportion']])"
   ]
  },
  {
   "cell_type": "markdown",
   "metadata": {},
   "source": [
    "Here, I focused on the proportion of females within each age group. One interesting finding here is that for all three age groups, the female proportion all exceeds 50%, which may indicate that more females went to college than males, perhaps because females value education more than males. "
   ]
  },
  {
   "cell_type": "code",
   "execution_count": 56,
   "metadata": {},
   "outputs": [
    {
     "name": "stdout",
     "output_type": "stream",
     "text": [
      "                                        Label  Pop_Diff  Percent_Diff\n",
      "1                     Science and Engineering     33374     11.042072\n",
      "2      Science and Engineering Related Fields    -12135    -35.174933\n",
      "3                                    Business      7897      5.464938\n",
      "4                                   Education    -15984    -53.814558\n",
      "5                 Arts, Humanities and Others    -44123    -15.843031\n"
     ]
    },
    {
     "name": "stderr",
     "output_type": "stream",
     "text": [
      "/var/folders/ht/0rsd328x0k58_grc3jx0hmbh0000gn/T/ipykernel_13397/3275959743.py:2: SettingWithCopyWarning: \n",
      "A value is trying to be set on a copy of a slice from a DataFrame.\n",
      "Try using .loc[row_indexer,col_indexer] = value instead\n",
      "\n",
      "See the caveats in the documentation: https://pandas.pydata.org/pandas-docs/stable/user_guide/indexing.html#returning-a-view-versus-a-copy\n",
      "  aggregate_data['Pop_Diff'] = aggregate_data['Male_Estimate'] - aggregate_data['Female_Estimate']\n",
      "/var/folders/ht/0rsd328x0k58_grc3jx0hmbh0000gn/T/ipykernel_13397/3275959743.py:5: SettingWithCopyWarning: \n",
      "A value is trying to be set on a copy of a slice from a DataFrame.\n",
      "Try using .loc[row_indexer,col_indexer] = value instead\n",
      "\n",
      "See the caveats in the documentation: https://pandas.pydata.org/pandas-docs/stable/user_guide/indexing.html#returning-a-view-versus-a-copy\n",
      "  aggregate_data['Percent_Diff'] = (aggregate_data['Pop_Diff'] / aggregate_data['Total_Estimate']) * 100\n"
     ]
    }
   ],
   "source": [
    "# calculate the population difference between male and female estimates\n",
    "aggregate_data['Pop_Diff'] = aggregate_data['Male_Estimate'] - aggregate_data['Female_Estimate']\n",
    "\n",
    "# calculate the percentage difference relative to the total estimate\n",
    "aggregate_data['Percent_Diff'] = (aggregate_data['Pop_Diff'] / aggregate_data['Total_Estimate']) * 100\n",
    "\n",
    "# display the results\n",
    "aggregate_display = aggregate_data[['Label', 'Pop_Diff', 'Percent_Diff']]\n",
    "print(aggregate_display)"
   ]
  },
  {
   "cell_type": "markdown",
   "metadata": {},
   "source": [
    "Here, I'm trying to understand the gender disparity within the various fields. According to the final results, we can infer that 'Science and Engineering' has a male surplus of 11.04%, indicating a higher proportion of males in this field compared to females. Conversely, 'Science and Engineering Related Fields' and 'Arts, Humanities and Others' show a substantial female surplus of -35.17% and -15.84% respectively, suggesting much higher proportions of females in comparison to males. The field of 'Business' also exhibits gender disparities, but to a much lesser extent. 'Education' stands out with the lowest male percentage, implying a significant female dominance in this field. "
   ]
  },
  {
   "cell_type": "markdown",
   "metadata": {},
   "source": [
    "## Data visualization\n",
    "In this section, you will create a few **visualizations** that show some of the insights you have gathered from this data.\n",
    "- Create at least 5 different visualizations, where each visualization shows different insights into the data.\n",
    "- Use at least 3 different visualization types (e.g. bar charts, line charts, stacked area charts, pie charts, etc)\n",
    "- Create a Markdown cell and a Code cell for each, where you explain and show the visualizations, respectively.\n",
    "- Create as many additional cells as you need to prepare the data for the visualizations."
   ]
  },
  {
   "cell_type": "markdown",
   "metadata": {},
   "source": [
    "### Distribution of Fields for First Major"
   ]
  },
  {
   "cell_type": "code",
   "execution_count": 82,
   "metadata": {},
   "outputs": [
    {
     "data": {
      "image/png": "[encoded data removed]",
      "text/plain": [
       "<Figure size 640x480 with 1 Axes>"
      ]
     },
     "metadata": {},
     "output_type": "display_data"
    }
   ],
   "source": [
    "# limit to rows 1 through 5\n",
    "fields = df['Label'].iloc[1:6]\n",
    "\n",
    "# sizes for each segment\n",
    "sizes = df['Total_Percent'].iloc[1:6] \n",
    "\n",
    "# create a pie chart\n",
    "fig, ax = plt.subplots()\n",
    "ax.pie(sizes, labels=fields)\n",
    "\n",
    "plt.title('Distribution of Fields for First Major')\n",
    "plt.show()"
   ]
  },
  {
   "cell_type": "markdown",
   "metadata": {},
   "source": [
    "This pie chart visualizes the total population estimates across different fields, using only the aggregate data.  Each slice of the pie chart corresponds to a different field of study and the size of each slice is proportional to the percentage of individuals in that field. Viewing the pie chart, we can easily recognize the most popular field as 'Science and Engineering'."
   ]
  },
  {
   "cell_type": "markdown",
   "metadata": {},
   "source": [
    "### Gender Comparison in the Business Field (Ages 25-39)"
   ]
  },
  {
   "cell_type": "code",
   "execution_count": 78,
   "metadata": {},
   "outputs": [
    {
     "data": {
      "image/png": "[encoded data removed]",
      "text/plain": [
       "<Figure size 640x480 with 1 Axes>"
      ]
     },
     "metadata": {},
     "output_type": "display_data"
    }
   ],
   "source": [
    "# limit to business major only\n",
    "business_data = age_25_39[age_25_39['Label'].str.strip() == 'Business']\n",
    "\n",
    "# extract male and female estimates\n",
    "male_estimate = business_data['Male_Estimate'].iloc[0]\n",
    "female_estimate = business_data['Female_Estimate'].iloc[0]\n",
    "\n",
    "# create a bar chart\n",
    "fields = ['Males', 'Females']\n",
    "estimates = [male_estimate, female_estimate]\n",
    "fig, ax = plt.subplots()\n",
    "rects = ax.bar(fields, estimates, color=['blue', 'pink'])\n",
    "ax.set_ylabel('Total Population Estimate')\n",
    "ax.set_title('Gender Comparison in Business Field (Ages 25-39)')\n",
    "ax.bar_label(rects, padding=3)\n",
    "plt.show()"
   ]
  },
  {
   "cell_type": "markdown",
   "metadata": {},
   "source": [
    "This is a bar chart comparing the total population estimates of males and females in the business field among individuals aged 25-39. The blue bar represents male estimates, while the pink bar corresponds to female estimates. This chart clearly shows that in this age group and field, there is a higher number of males than females."
   ]
  },
  {
   "cell_type": "markdown",
   "metadata": {},
   "source": [
    "### Population Trend in 'Arts, Humanities and Others' Field Across Different Age Groups"
   ]
  },
  {
   "cell_type": "code",
   "execution_count": 80,
   "metadata": {},
   "outputs": [
    {
     "data": {
      "image/png": "[encoded data removed]",
      "text/plain": [
       "<Figure size 640x480 with 1 Axes>"
      ]
     },
     "metadata": {},
     "output_type": "display_data"
    }
   ],
   "source": [
    "# limit to 'Arts, Humanities and Others' field and find corresponding values\n",
    "arts_25_39 = age_25_39[age_25_39['Label'].str.contains('Arts, Humanities and Others')]['Total_Estimate'].iloc[0]\n",
    "arts_40_64 = age_40_64[age_40_64['Label'].str.contains('Arts, Humanities and Others')]['Total_Estimate'].iloc[0]\n",
    "arts_65_over = age_65_over[age_65_over['Label'].str.contains('Arts, Humanities and Others')]['Total_Estimate'].iloc[0]\n",
    "\n",
    "\n",
    "fields = ['25-39', '40-64', '65+']\n",
    "values = [arts_25_39, arts_40_64, arts_65_over]\n",
    "\n",
    "# create a line plot\n",
    "fig, ax = plt.subplots()\n",
    "ax.plot(fields, values, marker='o', linestyle='-', color='red')\n",
    "ax.set_xlabel('Age Groups')\n",
    "ax.set_ylabel('Total Population Estimate')\n",
    "ax.set_title('Population Trend in Arts, Humanities and Others Field')\n",
    "plt.show()"
   ]
  },
  {
   "cell_type": "markdown",
   "metadata": {},
   "source": [
    "This is a line plot analyzing the trend of the population estimate in the 'Arts, Humanities and Others' field across three age groups: '25-39', '40-64', and '65+'. The plot shows an increase from the '25-39' age group to the '40-64' age group, followed by a significant drop from the '40-64' age group to the '65+' age group. "
   ]
  },
  {
   "cell_type": "markdown",
   "metadata": {},
   "source": [
    "### Male Proportion Across Age Groups"
   ]
  },
  {
   "cell_type": "code",
   "execution_count": 86,
   "metadata": {},
   "outputs": [
    {
     "data": {
      "image/png": "[encoded data removed]",
      "text/plain": [
       "<Figure size 640x480 with 1 Axes>"
      ]
     },
     "metadata": {},
     "output_type": "display_data"
    }
   ],
   "source": [
    "# calculate male proportion for each age group\n",
    "age_group_data['Male_Proportion'] = (age_group_data['Male_Estimate'] / age_group_data['Total_Estimate']) * 100\n",
    "\n",
    "# create a bar chart\n",
    "fig, ax = plt.subplots()\n",
    "rects = ax.bar(age_group_data['Age Group'], age_group_data['Male_Proportion'], color='orange')\n",
    "\n",
    "ax.set_xlabel('Age Groups')\n",
    "ax.set_ylabel('Male Proportion')\n",
    "ax.set_title('Male Proportion Across Age Groups')\n",
    "ax.bar_label(rects, padding=3, fmt='%.1f%%')\n",
    "\n",
    "plt.show()"
   ]
  },
  {
   "cell_type": "markdown",
   "metadata": {},
   "source": [
    "This a bar chart that displays the proportion of males across different age groups. The chart indicates that the proportion of males decreases slightly from the '40 to 64 years' age group to the '65 years and over' age group. This may reflect that males in the past might be more likely to skip college and choose to work directly after high school. It also shows that across all age groups, the proportion of females is always higher than the proportion of males, as the proportion of males never exceeds 50%."
   ]
  },
  {
   "cell_type": "markdown",
   "metadata": {},
   "source": [
    "### Population Estimates for Males and Females Across Age Groups"
   ]
  },
  {
   "cell_type": "code",
   "execution_count": 98,
   "metadata": {},
   "outputs": [
    {
     "data": {
      "image/png": "[encoded data removed]",
      "text/plain": [
       "<Figure size 640x480 with 1 Axes>"
      ]
     },
     "metadata": {},
     "output_type": "display_data"
    }
   ],
   "source": [
    "# calculate the population difference between male and female estimates\n",
    "age_group_data['Pop_Diff'] = age_group_data['Male_Estimate'] - age_group_data['Female_Estimate']\n",
    "\n",
    "# calculate the percentage difference relative to the total estimate\n",
    "age_group_data['Percent_Diff'] = (age_group_data['Pop_Diff'] / age_group_data['Total_Estimate']) * 100\n",
    "\n",
    "# create an area chart\n",
    "fig, ax = plt.subplots()\n",
    "\n",
    "# use the absolute value of 'Pop_Diff' to avoid negative area fills if females outnumber males\n",
    "ax.fill_between(age_group_data['Age Group'], age_group_data['Male_Estimate'], \n",
    "                color=\"orange\", alpha=0.5, label='Male Estimate')\n",
    "ax.fill_between(age_group_data['Age Group'], age_group_data['Female_Estimate'], \n",
    "                color=\"pink\", alpha=0.5, label='Female Estimate')\n",
    "\n",
    "ax.set_xlabel('Age Group')\n",
    "ax.set_ylabel('Population Estimates')\n",
    "ax.set_title('Population Estimates for Males and Females Across Age Groups')\n",
    "ax.legend()\n",
    "plt.show()"
   ]
  },
  {
   "cell_type": "markdown",
   "metadata": {},
   "source": [
    "This is an area chart that shows the population estimates for males and females across different age groups. The chart effectively differentiates between male and female estimates, with one color representing males and another representing females, making it easy to see which gender has a larger estimated population in each age group. From this graph, which aligns well with previous chart, we can see that females always have a larger population."
   ]
  }
 ],
 "metadata": {
  "kernelspec": {
   "display_name": "Python 3 (ipykernel)",
   "language": "python",
   "name": "python3"
  },
  "language_info": {
   "codemirror_mode": {
    "name": "ipython",
    "version": 3
   },
   "file_extension": ".py",
   "mimetype": "text/x-python",
   "name": "python",
   "nbconvert_exporter": "python",
   "pygments_lexer": "ipython3",
   "version": "3.10.9"
  }
 },
 "nbformat": 4,
 "nbformat_minor": 4
}
